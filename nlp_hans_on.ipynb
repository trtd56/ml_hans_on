{
 "cells": [
  {
   "cell_type": "markdown",
   "metadata": {},
   "source": [
    "# Basic NLP hans-on"
   ]
  },
  {
   "cell_type": "markdown",
   "metadata": {},
   "source": [
    "##### 使用するモジュールをインポートする"
   ]
  },
  {
   "cell_type": "code",
   "execution_count": 1,
   "metadata": {},
   "outputs": [],
   "source": [
    "import numpy as np\n",
    "import pandas as pd\n",
    "from gensim.models import KeyedVectors\n",
    "from janome.tokenizer import Tokenizer\n",
    "from sklearn.metrics.pairwise import cosine_similarity\n",
    "from sklearn.model_selection import StratifiedKFold\n",
    "from sklearn.linear_model import LogisticRegression\n",
    "from sklearn.metrics import accuracy_score"
   ]
  },
  {
   "cell_type": "markdown",
   "metadata": {},
   "source": [
    "##### 読み込むファイルのパスを設定\n",
    "[word2vec学習済みモデル](http://www.cl.ecei.tohoku.ac.jp/~m-suzuki/jawiki_vector/)\n",
    "> 解凍したファイル内の`entity_vector/entity_vector.model.bin`を設定"
   ]
  },
  {
   "cell_type": "code",
   "execution_count": 2,
   "metadata": {},
   "outputs": [],
   "source": [
    "w2v_path = './data/entity_vector.model.bin'"
   ]
  },
  {
   "cell_type": "markdown",
   "metadata": {},
   "source": [
    "## 自然言語のベクトル化"
   ]
  },
  {
   "cell_type": "markdown",
   "metadata": {},
   "source": [
    "word2vecのモデルを読み込む(`%%time`は追加して実行時間を計測するため)"
   ]
  },
  {
   "cell_type": "code",
   "execution_count": 3,
   "metadata": {},
   "outputs": [
    {
     "name": "stdout",
     "output_type": "stream",
     "text": [
      "CPU times: user 16.5 s, sys: 13.8 s, total: 30.3 s\n",
      "Wall time: 30.5 s\n"
     ]
    }
   ],
   "source": [
    "%%time\n",
    "w2v_model = KeyedVectors.load_word2vec_format(w2v_path, binary=True)"
   ]
  },
  {
   "cell_type": "markdown",
   "metadata": {},
   "source": [
    "#### 単語のベクトル化"
   ]
  },
  {
   "cell_type": "markdown",
   "metadata": {},
   "source": [
    "読み込んだモデルを使って`猫`という単語のベクトルを取得してみる  \n",
    "ベクトル自身と次元数を確認する"
   ]
  },
  {
   "cell_type": "code",
   "execution_count": 4,
   "metadata": {},
   "outputs": [
    {
     "name": "stdout",
     "output_type": "stream",
     "text": [
      "[-0.43024188 -0.04794875 -1.2166483  -0.00707717  1.0666201   2.0926762\n",
      "  1.2363118   0.09632737 -0.8704978   0.13878527 -0.2398951  -1.4510432\n",
      " -1.035872   -0.36443335  1.510419   -0.8976701  -0.43222582 -3.044292\n",
      " -0.4697854   0.8835323  -0.76157856 -1.5505594  -0.3028883  -0.89064634\n",
      "  0.03595268  0.7125332   2.511127   -2.8003094  -0.9659015   1.0950842\n",
      "  0.6309901   1.4498174  -0.66543955  2.7736151   0.73611355 -0.8395903\n",
      " -2.5741649   1.4304208   0.2820381   0.5554876   1.3982109  -0.48366612\n",
      " -0.89337915 -0.67719775 -0.17423566  0.30680582 -1.2953538   0.04251587\n",
      "  0.85199183 -0.48973852 -0.86662847 -1.2539532   2.46837     2.9143462\n",
      "  1.6813743  -1.9618986   0.36637524  1.2169962   0.61634284  0.7284531\n",
      "  0.11117083 -1.0564184  -1.043863   -0.9271703  -0.86626095  0.5458255\n",
      " -2.590363    2.1277132  -0.04561193  1.2624754  -2.2917085   0.47231165\n",
      " -0.76928276  1.4070219   0.52328646 -0.12818593  1.8500334   2.3609638\n",
      " -0.87362415  0.08904377 -1.1197895  -0.17823507 -0.17032406  0.67459536\n",
      "  1.6982105   1.9021778   0.962923   -1.3571446  -1.691873   -0.63206667\n",
      " -0.24111834  2.6810026   0.9056454   0.7118552  -1.1479664  -0.13804579\n",
      " -0.14430006 -0.14193687 -1.5580614   1.304761   -2.1540632  -1.8439907\n",
      "  0.08644967 -0.554207    0.47851613 -0.55742776  0.01938296  0.68017\n",
      " -2.9389157   1.4991387  -0.22184783 -0.46415195 -0.05824641  0.9308408\n",
      "  1.2452997  -0.5851142  -1.2352629   2.4245665   1.8940197   1.302431\n",
      " -0.5878149  -1.2281817   2.2510164   0.2460431   0.29049316 -2.5679615\n",
      "  0.156415    2.5945961  -1.1103802  -1.3972452   3.4808824   0.8126307\n",
      "  1.6000288  -0.7250433  -1.7335654   1.3818009  -1.9663762   1.36368\n",
      "  0.6610147  -1.7306386   1.9553541   0.27720538  0.31103653 -1.0562342\n",
      " -0.8456328   0.6610786  -0.41253313  0.00855104  0.52213013  0.14479129\n",
      "  1.4790014  -1.2092156  -1.359648   -2.3420012  -1.1345252   1.7565016\n",
      " -0.94712317 -0.74215114  1.2566509  -0.81102973  1.2934893  -1.5992005\n",
      " -0.72478145 -0.8703658  -0.7148942   0.0674451  -1.3161927   1.7937007\n",
      " -0.33539072  0.16369693  1.2950121   0.02731264 -2.4613917   0.10857317\n",
      "  1.0914503  -0.4266153  -1.898029    2.2405863  -1.4185712   0.6029385\n",
      "  1.3122996   1.7554014  -0.58167845  0.42534128 -1.6832184  -2.4125361\n",
      "  0.82847023 -1.1257688   0.4176695   1.8772503   0.13090783 -0.24129423\n",
      " -1.1234311   0.72474575 -2.72477    -0.72488946  0.73172665  0.44337416\n",
      " -0.34939447 -0.97004074]\n",
      "(200,)\n"
     ]
    }
   ],
   "source": [
    "cat_vec = w2v_model['猫']\n",
    "print(cat_vec)\n",
    "print(cat_vec.shape)"
   ]
  },
  {
   "cell_type": "markdown",
   "metadata": {},
   "source": [
    "`猫`と似たベクトルを持つ単語を10件取得する"
   ]
  },
  {
   "cell_type": "code",
   "execution_count": 5,
   "metadata": {},
   "outputs": [
    {
     "data": {
      "text/plain": [
       "[('猫', 0.9999999403953552),\n",
       " ('[ネコ]', 0.845432698726654),\n",
       " ('ネコ', 0.8190228939056396),\n",
       " ('[猫]', 0.8119831681251526),\n",
       " ('ウサギ', 0.8038156032562256),\n",
       " ('小鳥', 0.7744659781455994),\n",
       " ('子猫', 0.7610605955123901),\n",
       " ('[犬]', 0.7583129405975342),\n",
       " ('ネズミ', 0.7523773908615112),\n",
       " ('子犬', 0.7486449480056763)]"
      ]
     },
     "execution_count": 5,
     "metadata": {},
     "output_type": "execute_result"
    }
   ],
   "source": [
    "w2v_model.most_similar(positive=[cat_vec], negative=[], topn=10)\n",
    "# ここで[]がついているのはwikipediaのリンクが作成されていたもの"
   ]
  },
  {
   "cell_type": "markdown",
   "metadata": {},
   "source": [
    "##### ベクトルの計算をしてみる\n",
    "日本 - 東京 + ニューヨーク = ???"
   ]
  },
  {
   "cell_type": "code",
   "execution_count": 6,
   "metadata": {},
   "outputs": [
    {
     "data": {
      "text/plain": [
       "[('アメリカ', 0.7917619943618774),\n",
       " ('アメリカ合衆国', 0.7624144554138184),\n",
       " ('[アメリカ合衆国]', 0.7213078737258911),\n",
       " ('[アメリカ]', 0.7131723165512085),\n",
       " ('イギリス', 0.7096747159957886),\n",
       " ('米国', 0.6873115301132202),\n",
       " ('[イギリス]', 0.6620149612426758),\n",
       " ('英国', 0.6602476835250854),\n",
       " ('ヨーロッパ', 0.6132903695106506),\n",
       " ('[ジャマイカ]', 0.6010661721229553)]"
      ]
     },
     "execution_count": 6,
     "metadata": {},
     "output_type": "execute_result"
    }
   ],
   "source": [
    "w2v_model.most_similar(positive=['ニューヨーク', '日本'], negative=['東京'], topn=10)"
   ]
  },
  {
   "cell_type": "markdown",
   "metadata": {},
   "source": [
    "単語を入力するとベクトルを返してくれる関数を作成する"
   ]
  },
  {
   "cell_type": "code",
   "execution_count": 7,
   "metadata": {},
   "outputs": [],
   "source": [
    "def get_wv(w):\n",
    "    try:\n",
    "        return w2v_model[w]\n",
    "    # 未知語はkeyErrorとなってしまう\n",
    "    except KeyError:\n",
    "        return np.zeros(200)"
   ]
  },
  {
   "cell_type": "markdown",
   "metadata": {},
   "source": [
    "#### 文章のベクトル化"
   ]
  },
  {
   "cell_type": "markdown",
   "metadata": {},
   "source": [
    "形態素解析ツール`janome`を使ってみる  \n",
    "まずは「私はサッカーが好きです。」という文章を形態素解析してみる"
   ]
  },
  {
   "cell_type": "code",
   "execution_count": 8,
   "metadata": {},
   "outputs": [
    {
     "name": "stdout",
     "output_type": "stream",
     "text": [
      "私\t名詞,代名詞,一般,*,*,*,私,ワタシ,ワタシ\n",
      "は\t助詞,係助詞,*,*,*,*,は,ハ,ワ\n",
      "サッカー\t名詞,一般,*,*,*,*,サッカー,サッカー,サッカー\n",
      "が\t助詞,格助詞,一般,*,*,*,が,ガ,ガ\n",
      "好き\t名詞,形容動詞語幹,*,*,*,*,好き,スキ,スキ\n",
      "です\t助動詞,*,*,*,特殊・デス,基本形,です,デス,デス\n",
      "。\t記号,句点,*,*,*,*,。,。,。\n"
     ]
    }
   ],
   "source": [
    "tokenizer = Tokenizer()\n",
    "tokens = tokenizer.tokenize('私はサッカーが好きです。')\n",
    "for token in tokens:\n",
    "    print(token)"
   ]
  },
  {
   "cell_type": "markdown",
   "metadata": {},
   "source": [
    "同じ文章の分ち書きを取得する"
   ]
  },
  {
   "cell_type": "code",
   "execution_count": 9,
   "metadata": {},
   "outputs": [
    {
     "name": "stdout",
     "output_type": "stream",
     "text": [
      "['私', 'は', 'サッカー', 'が', '好き', 'です', '。']\n"
     ]
    }
   ],
   "source": [
    "sep_text = [token for token in tokenizer.tokenize('私はサッカーが好きです。', wakati=True)]\n",
    "print(sep_text)"
   ]
  },
  {
   "cell_type": "markdown",
   "metadata": {},
   "source": [
    "同じ文章の文章ベクトルを取得する"
   ]
  },
  {
   "cell_type": "code",
   "execution_count": 10,
   "metadata": {},
   "outputs": [
    {
     "name": "stdout",
     "output_type": "stream",
     "text": [
      "[ 0.6273657  -0.5029469  -0.43460184 -1.1501808   0.12501477  0.73670965\n",
      "  0.7365438   0.7396611  -0.8707982  -0.71904796 -0.40994534  0.25132483\n",
      " -2.3795378   0.18605451  0.9973677   0.8165956   0.74830896  0.7912072\n",
      "  0.8549124  -0.09605421 -0.5207016   0.7937451   0.37317356  0.7891353\n",
      "  1.1250448   1.5913105   0.2653513  -0.18871689 -1.245264    1.6019698\n",
      " -0.40631527  0.82664573 -0.59559447  1.7971992   0.3909776  -0.9302103\n",
      " -2.1869888   0.9312015   1.7912958  -0.38414487  1.2875404  -1.0330919\n",
      " -0.887987   -0.36752728  0.64559895  1.8445798   0.58402777 -0.1593472\n",
      " -0.5781916   0.7868512  -0.19558856 -1.0682898   0.74934965  0.65315807\n",
      "  0.16822092 -0.73000354  0.58957946  1.3434268  -0.46643257  0.9142896\n",
      " -0.1199066   1.1502657   0.95243496 -0.54707146 -1.4049109  -0.92839813\n",
      " -2.2109168   1.547659    0.2113847   0.19778265 -0.36238125 -1.6211599\n",
      " -0.9794191   0.02179667  0.47072715 -0.89195824  0.5193229   0.44201428\n",
      " -0.0883886  -0.7677713  -0.5235376   0.02272597 -1.4935454   1.9911035\n",
      "  1.1245015   0.65937614 -0.23562942 -0.10593282  0.31297436 -1.1980397\n",
      "  0.20590107  1.547313    0.20675318  0.1897978  -0.50574046 -0.02213155\n",
      "  0.6960011   0.12859474 -0.62361157  0.52056473  0.369929    1.2976322\n",
      " -0.51848334 -1.1039165  -0.1104626  -1.3725308   0.8908334   0.97111714\n",
      " -0.7671389   0.269712   -0.04427573  1.0162126   1.3549758  -0.13671973\n",
      " -0.3156256  -0.49809146 -0.10105822 -0.2690694  -0.4107495   0.6667433\n",
      "  0.07115742  0.72145253  0.30095416  0.11768635  0.04185041 -0.68067867\n",
      "  0.849578    1.0434891  -1.7355148  -1.2389965   0.7905758  -0.44897175\n",
      "  0.46323374 -0.4854434  -0.17913425  0.8070629  -0.21505046  0.30722445\n",
      " -0.3413643   0.8090337   2.1401744  -0.17650758  0.729626    1.3801613\n",
      " -0.5652169   1.4422367  -0.06233827  1.0855716   0.41650945 -0.11300973\n",
      "  1.0193273  -2.2746265  -1.8140796   0.01400493 -0.688207   -0.4954121\n",
      " -0.99081796 -1.2820908   0.03169349  1.5076466   0.6166931   0.68065315\n",
      "  3.2701137  -0.1315449  -1.0478505   0.4307322  -1.1543732   0.21672371\n",
      "  0.2569047   0.18776438 -0.25631717 -2.7905316  -0.7352942   0.9714805\n",
      "  1.3090773   1.1232629  -0.7240586   1.2674416  -0.5717474   0.48115292\n",
      "  1.1432666  -0.02847796 -0.34902042  0.04875416 -0.9308407  -3.3148081\n",
      "  1.0682514   1.8016994   0.26484996  1.8877279  -1.3492965   1.432234\n",
      "  0.3493507   0.65725505 -1.2479599  -0.92382705 -0.36744118 -0.03262265\n",
      "  0.03048018 -0.11698548]\n",
      "(200,)\n"
     ]
    }
   ],
   "source": [
    "doc_vec = sum([get_wv(w) for w in sep_text])/len(sep_text)\n",
    "print(doc_vec)\n",
    "print(doc_vec.shape)"
   ]
  },
  {
   "cell_type": "markdown",
   "metadata": {},
   "source": [
    "文章を入力するとベクトルを返してくれる関数を作成する"
   ]
  },
  {
   "cell_type": "code",
   "execution_count": 11,
   "metadata": {},
   "outputs": [],
   "source": [
    "def get_dv(text):\n",
    "    sep_text = [token for token in tokenizer.tokenize(text, wakati=True)]\n",
    "    return sum([get_wv(w) for w in sep_text])/len(sep_text)"
   ]
  },
  {
   "cell_type": "markdown",
   "metadata": {},
   "source": [
    "##### 「私はサッカーが好きです。」に対する下記3文章の類似度を比べてみる\n",
    "1. 私は野球が好きです。\n",
    "2. 私はラーメンが好きです。\n",
    "3. 今日は良い天気です。"
   ]
  },
  {
   "cell_type": "markdown",
   "metadata": {},
   "source": [
    "各文章のベクトルを取得する"
   ]
  },
  {
   "cell_type": "code",
   "execution_count": 12,
   "metadata": {},
   "outputs": [],
   "source": [
    "vec = get_dv('私はサッカーが好きです。')\n",
    "\n",
    "vec1 = get_dv('私は野球が好きです。')\n",
    "vec2 = get_dv('私はラーメンが好きです。')\n",
    "vec3 = get_dv('今日はいい天気です。')"
   ]
  },
  {
   "cell_type": "markdown",
   "metadata": {},
   "source": [
    "cos類似度を使って各文章間の距離を測ってみる"
   ]
  },
  {
   "cell_type": "code",
   "execution_count": 13,
   "metadata": {},
   "outputs": [
    {
     "name": "stdout",
     "output_type": "stream",
     "text": [
      "[[0.9865114]]\n",
      "[[0.966223]]\n",
      "[[0.81469536]]\n"
     ]
    }
   ],
   "source": [
    "sim_vs1 = cosine_similarity([vec], [vec1])\n",
    "sim_vs2 = cosine_similarity([vec], [vec2])\n",
    "sim_vs3 = cosine_similarity([vec], [vec3])\n",
    "print(sim_vs1)\n",
    "print(sim_vs2)\n",
    "print(sim_vs3)"
   ]
  },
  {
   "cell_type": "markdown",
   "metadata": {},
   "source": [
    "##### 上記ベクトル比較をまとめて行う"
   ]
  },
  {
   "cell_type": "markdown",
   "metadata": {},
   "source": [
    "ベクトル結合のために次元数を増やす"
   ]
  },
  {
   "cell_type": "code",
   "execution_count": 14,
   "metadata": {},
   "outputs": [
    {
     "name": "stdout",
     "output_type": "stream",
     "text": [
      "org (200,)\n",
      "new (1, 200)\n"
     ]
    }
   ],
   "source": [
    "vec1_ = vec1.reshape(1, 200)\n",
    "vec2_ = vec2.reshape(1, 200)\n",
    "vec3_ = vec3.reshape(1, 200)\n",
    "print('org', vec1.shape)\n",
    "print('new', vec1_.shape)"
   ]
  },
  {
   "cell_type": "markdown",
   "metadata": {},
   "source": [
    "3つのベクトルを結合する"
   ]
  },
  {
   "cell_type": "code",
   "execution_count": 15,
   "metadata": {},
   "outputs": [
    {
     "name": "stdout",
     "output_type": "stream",
     "text": [
      "(3, 200)\n"
     ]
    }
   ],
   "source": [
    "vecs = np.concatenate((vec1_, vec2_, vec3_), axis=0)\n",
    "print(vecs.shape)"
   ]
  },
  {
   "cell_type": "markdown",
   "metadata": {},
   "source": [
    "3つの文章との距離をまとめて取得する"
   ]
  },
  {
   "cell_type": "code",
   "execution_count": 16,
   "metadata": {},
   "outputs": [
    {
     "name": "stdout",
     "output_type": "stream",
     "text": [
      "[[0.9865114  0.96622294 0.81469536]]\n"
     ]
    }
   ],
   "source": [
    "sim = cosine_similarity([vec], vecs)\n",
    "print(sim)"
   ]
  },
  {
   "cell_type": "markdown",
   "metadata": {},
   "source": [
    "## FAQ検索"
   ]
  },
  {
   "cell_type": "markdown",
   "metadata": {},
   "source": [
    "検索対象のFAQのパスを設定"
   ]
  },
  {
   "cell_type": "code",
   "execution_count": 17,
   "metadata": {},
   "outputs": [],
   "source": [
    "qa_path = './data/muscle_qa.csv'"
   ]
  },
  {
   "cell_type": "markdown",
   "metadata": {},
   "source": [
    "##### FAQデータを読み込む\n",
    "先頭3行を確認する"
   ]
  },
  {
   "cell_type": "code",
   "execution_count": 18,
   "metadata": {},
   "outputs": [
    {
     "data": {
      "text/html": [
       "<div>\n",
       "<style scoped>\n",
       "    .dataframe tbody tr th:only-of-type {\n",
       "        vertical-align: middle;\n",
       "    }\n",
       "\n",
       "    .dataframe tbody tr th {\n",
       "        vertical-align: top;\n",
       "    }\n",
       "\n",
       "    .dataframe thead th {\n",
       "        text-align: right;\n",
       "    }\n",
       "</style>\n",
       "<table border=\"1\" class=\"dataframe\">\n",
       "  <thead>\n",
       "    <tr style=\"text-align: right;\">\n",
       "      <th></th>\n",
       "      <th>q_id</th>\n",
       "      <th>q_txt</th>\n",
       "      <th>a_txt</th>\n",
       "    </tr>\n",
       "  </thead>\n",
       "  <tbody>\n",
       "    <tr>\n",
       "      <th>0</th>\n",
       "      <td>Q0000</td>\n",
       "      <td>○○って何？</td>\n",
       "      <td>トレーニング用語の場合は、まずはウェイトトレーニング用語辞典を見てみてください。</td>\n",
       "    </tr>\n",
       "    <tr>\n",
       "      <th>1</th>\n",
       "      <td>Q0001</td>\n",
       "      <td>これから筋トレ初めて夏にまにあいますか？</td>\n",
       "      <td>・現在9月の場合：来年の夏まで1年弱。頑張れば多少は見栄えがするようになるかもしれません。\\...</td>\n",
       "    </tr>\n",
       "    <tr>\n",
       "      <th>2</th>\n",
       "      <td>Q0002</td>\n",
       "      <td>三ヶ月でムキムキマッチョになれますか？</td>\n",
       "      <td>無理です。最低3年は頑張って下さい。</td>\n",
       "    </tr>\n",
       "  </tbody>\n",
       "</table>\n",
       "</div>"
      ],
      "text/plain": [
       "    q_id                 q_txt  \\\n",
       "0  Q0000                ○○って何？   \n",
       "1  Q0001  これから筋トレ初めて夏にまにあいますか？   \n",
       "2  Q0002   三ヶ月でムキムキマッチョになれますか？   \n",
       "\n",
       "                                               a_txt  \n",
       "0           トレーニング用語の場合は、まずはウェイトトレーニング用語辞典を見てみてください。  \n",
       "1  ・現在9月の場合：来年の夏まで1年弱。頑張れば多少は見栄えがするようになるかもしれません。\\...  \n",
       "2                                 無理です。最低3年は頑張って下さい。  "
      ]
     },
     "execution_count": 18,
     "metadata": {},
     "output_type": "execute_result"
    }
   ],
   "source": [
    "faq_df = pd.read_csv(qa_path)\n",
    "faq_df.head(3)"
   ]
  },
  {
   "cell_type": "markdown",
   "metadata": {},
   "source": [
    "検索対象をFAQの質問文とし、FAQ質問文のベクトルのリストを取得する"
   ]
  },
  {
   "cell_type": "code",
   "execution_count": 19,
   "metadata": {},
   "outputs": [
    {
     "data": {
      "text/plain": [
       "(36, 200)"
      ]
     },
     "execution_count": 19,
     "metadata": {},
     "output_type": "execute_result"
    }
   ],
   "source": [
    "faq_vecs = np.array([get_dv(doc) for doc in faq_df.q_txt])\n",
    "faq_vecs.shape"
   ]
  },
  {
   "cell_type": "markdown",
   "metadata": {},
   "source": [
    "文章を入力すると、各FAQとの類似度を計算してくれる関数を作る"
   ]
  },
  {
   "cell_type": "code",
   "execution_count": 20,
   "metadata": {},
   "outputs": [],
   "source": [
    "def get_faq_sim(text):\n",
    "    vec = get_dv(text)\n",
    "    sim = cosine_similarity([vec], faq_vecs)\n",
    "    return sim[0]"
   ]
  },
  {
   "cell_type": "code",
   "execution_count": 21,
   "metadata": {},
   "outputs": [
    {
     "data": {
      "text/plain": [
       "array([0.51239399, 0.65547589, 0.70830506, 0.66406682, 0.77426082,\n",
       "       0.68723169, 0.81671257, 0.76775282, 0.81081473, 0.71943028,\n",
       "       0.782112  , 0.74304168, 0.75255838, 0.64864124, 0.73604025,\n",
       "       0.76398584, 0.81590054, 0.81554473, 0.77035144, 0.65050797,\n",
       "       0.69872552, 0.7581692 , 0.7501388 , 0.85945486, 0.75614279,\n",
       "       0.69778384, 0.84415088, 0.78898606, 0.831815  , 0.81245325,\n",
       "       0.80473677, 0.80900392, 0.85549673, 0.85143797, 0.81659689,\n",
       "       0.78287876])"
      ]
     },
     "execution_count": 21,
     "metadata": {},
     "output_type": "execute_result"
    }
   ],
   "source": [
    "sim = get_faq_sim('睡眠時間は何時間くらいがよい？')\n",
    "sim"
   ]
  },
  {
   "cell_type": "markdown",
   "metadata": {},
   "source": [
    "類似度の高い順にFAQのインデックスを返す関数を作成"
   ]
  },
  {
   "cell_type": "code",
   "execution_count": 22,
   "metadata": {},
   "outputs": [
    {
     "data": {
      "text/plain": [
       "array([23, 32, 33, 26, 28,  6, 34, 16, 17, 29,  8, 31, 30, 27, 35, 10,  4,\n",
       "       18,  7, 15, 21, 24, 12, 22, 11, 14,  9,  2, 20, 25,  5,  3,  1, 19,\n",
       "       13,  0])"
      ]
     },
     "execution_count": 22,
     "metadata": {},
     "output_type": "execute_result"
    }
   ],
   "source": [
    "sort_i = np.argsort(sim)[::-1]\n",
    "sort_i"
   ]
  },
  {
   "cell_type": "markdown",
   "metadata": {},
   "source": [
    "類似する上位5件のFAQを表示する"
   ]
  },
  {
   "cell_type": "code",
   "execution_count": 23,
   "metadata": {},
   "outputs": [
    {
     "data": {
      "text/html": [
       "<div>\n",
       "<style scoped>\n",
       "    .dataframe tbody tr th:only-of-type {\n",
       "        vertical-align: middle;\n",
       "    }\n",
       "\n",
       "    .dataframe tbody tr th {\n",
       "        vertical-align: top;\n",
       "    }\n",
       "\n",
       "    .dataframe thead th {\n",
       "        text-align: right;\n",
       "    }\n",
       "</style>\n",
       "<table border=\"1\" class=\"dataframe\">\n",
       "  <thead>\n",
       "    <tr style=\"text-align: right;\">\n",
       "      <th></th>\n",
       "      <th>q_id</th>\n",
       "      <th>q_txt</th>\n",
       "      <th>a_txt</th>\n",
       "    </tr>\n",
       "  </thead>\n",
       "  <tbody>\n",
       "    <tr>\n",
       "      <th>23</th>\n",
       "      <td>Q0023</td>\n",
       "      <td>一日にどれぐらいのカロリーが必要ですか？</td>\n",
       "      <td>成人男子であれば約2500kcalぐらい必要です。筋トレ1時間でだいたい500kcalぐらい...</td>\n",
       "    </tr>\n",
       "    <tr>\n",
       "      <th>32</th>\n",
       "      <td>Q0032</td>\n",
       "      <td>何時間ぐらい寝たらいいのですか？</td>\n",
       "      <td>一日7時間ぐらいが理想です。短すぎると回復しません。8時間以上の睡眠は体液が濃くなって体に悪...</td>\n",
       "    </tr>\n",
       "    <tr>\n",
       "      <th>33</th>\n",
       "      <td>Q0033</td>\n",
       "      <td>休みの時は全く何もしない方が良いのですか？</td>\n",
       "      <td>少しぐらいの有酸素運動なら疲れを取ってくれます。</td>\n",
       "    </tr>\n",
       "    <tr>\n",
       "      <th>26</th>\n",
       "      <td>Q0026</td>\n",
       "      <td>一日に必要なタンパク質はどれぐらいですか？</td>\n",
       "      <td>トレーニングをしている人であれば除脂肪体重の2/1000から3/1000ぐらい必要です。仮に...</td>\n",
       "    </tr>\n",
       "    <tr>\n",
       "      <th>28</th>\n",
       "      <td>Q0028</td>\n",
       "      <td>プロテインの一回の量はどれぐらい取ればいい？</td>\n",
       "      <td>一般的な人が消化吸収できるプロテイン量が30gと言われているので、一回30gが基本です。個人...</td>\n",
       "    </tr>\n",
       "  </tbody>\n",
       "</table>\n",
       "</div>"
      ],
      "text/plain": [
       "     q_id                   q_txt  \\\n",
       "23  Q0023    一日にどれぐらいのカロリーが必要ですか？   \n",
       "32  Q0032        何時間ぐらい寝たらいいのですか？   \n",
       "33  Q0033   休みの時は全く何もしない方が良いのですか？   \n",
       "26  Q0026   一日に必要なタンパク質はどれぐらいですか？   \n",
       "28  Q0028  プロテインの一回の量はどれぐらい取ればいい？   \n",
       "\n",
       "                                                a_txt  \n",
       "23  成人男子であれば約2500kcalぐらい必要です。筋トレ1時間でだいたい500kcalぐらい...  \n",
       "32  一日7時間ぐらいが理想です。短すぎると回復しません。8時間以上の睡眠は体液が濃くなって体に悪...  \n",
       "33                           少しぐらいの有酸素運動なら疲れを取ってくれます。  \n",
       "26  トレーニングをしている人であれば除脂肪体重の2/1000から3/1000ぐらい必要です。仮に...  \n",
       "28  一般的な人が消化吸収できるプロテイン量が30gと言われているので、一回30gが基本です。個人...  "
      ]
     },
     "execution_count": 23,
     "metadata": {},
     "output_type": "execute_result"
    }
   ],
   "source": [
    "faq_df.loc[sort_i[:5]]"
   ]
  },
  {
   "cell_type": "markdown",
   "metadata": {},
   "source": [
    "# 教師あり学習"
   ]
  },
  {
   "cell_type": "markdown",
   "metadata": {},
   "source": [
    "[KNB(京都コーパス)](http://nlp.ist.i.kyoto-u.ac.jp/kuntt/)から抽出されたデータのパスを設定"
   ]
  },
  {
   "cell_type": "code",
   "execution_count": 24,
   "metadata": {},
   "outputs": [],
   "source": [
    "knb_path = './data/knb_data.csv'"
   ]
  },
  {
   "cell_type": "markdown",
   "metadata": {},
   "source": [
    "##### KNBデータを読み込む\n",
    "先頭3行を確認する"
   ]
  },
  {
   "cell_type": "code",
   "execution_count": 25,
   "metadata": {},
   "outputs": [
    {
     "data": {
      "text/html": [
       "<div>\n",
       "<style scoped>\n",
       "    .dataframe tbody tr th:only-of-type {\n",
       "        vertical-align: middle;\n",
       "    }\n",
       "\n",
       "    .dataframe tbody tr th {\n",
       "        vertical-align: top;\n",
       "    }\n",
       "\n",
       "    .dataframe thead th {\n",
       "        text-align: right;\n",
       "    }\n",
       "</style>\n",
       "<table border=\"1\" class=\"dataframe\">\n",
       "  <thead>\n",
       "    <tr style=\"text-align: right;\">\n",
       "      <th></th>\n",
       "      <th>label</th>\n",
       "      <th>text</th>\n",
       "    </tr>\n",
       "  </thead>\n",
       "  <tbody>\n",
       "    <tr>\n",
       "      <th>0</th>\n",
       "      <td>Gourmet</td>\n",
       "      <td>［グルメ］烏丸六角のおかき屋さん</td>\n",
       "    </tr>\n",
       "    <tr>\n",
       "      <th>1</th>\n",
       "      <td>Gourmet</td>\n",
       "      <td>六角堂の前にある、蕪村庵というお店に行ってきた。</td>\n",
       "    </tr>\n",
       "    <tr>\n",
       "      <th>2</th>\n",
       "      <td>Gourmet</td>\n",
       "      <td>おかきやせんべいの店なのだが、これがオイシイ。</td>\n",
       "    </tr>\n",
       "  </tbody>\n",
       "</table>\n",
       "</div>"
      ],
      "text/plain": [
       "     label                      text\n",
       "0  Gourmet          ［グルメ］烏丸六角のおかき屋さん\n",
       "1  Gourmet  六角堂の前にある、蕪村庵というお店に行ってきた。\n",
       "2  Gourmet   おかきやせんべいの店なのだが、これがオイシイ。"
      ]
     },
     "execution_count": 25,
     "metadata": {},
     "output_type": "execute_result"
    }
   ],
   "source": [
    "knb_df = pd.read_csv(knb_path)\n",
    "knb_df.head(3)"
   ]
  },
  {
   "cell_type": "markdown",
   "metadata": {},
   "source": [
    "文章をベクトルに変換する"
   ]
  },
  {
   "cell_type": "code",
   "execution_count": 26,
   "metadata": {},
   "outputs": [
    {
     "data": {
      "text/plain": [
       "(1410, 200)"
      ]
     },
     "execution_count": 26,
     "metadata": {},
     "output_type": "execute_result"
    }
   ],
   "source": [
    "x_train = np.array([get_dv(doc) for doc in knb_df.text])\n",
    "x_train.shape"
   ]
  },
  {
   "cell_type": "markdown",
   "metadata": {},
   "source": [
    "ラベルをIDに変換する  \n",
    "Gourmetを0, Sportを1とする"
   ]
  },
  {
   "cell_type": "code",
   "execution_count": 27,
   "metadata": {},
   "outputs": [
    {
     "data": {
      "text/plain": [
       "(1410,)"
      ]
     },
     "execution_count": 27,
     "metadata": {},
     "output_type": "execute_result"
    }
   ],
   "source": [
    "dic = {'Gourmet':0, 'Sports':1}\n",
    "y_train = np.array([dic[lab] for lab in knb_df.label])\n",
    "y_train.shape"
   ]
  },
  {
   "cell_type": "markdown",
   "metadata": {},
   "source": [
    "5Foldでデータ分割して学習する"
   ]
  },
  {
   "cell_type": "code",
   "execution_count": 28,
   "metadata": {},
   "outputs": [],
   "source": [
    "cv = StratifiedKFold(n_splits=5, shuffle=True, random_state=0)"
   ]
  },
  {
   "cell_type": "markdown",
   "metadata": {},
   "source": [
    "各foldでのスコア(accuracy)を出して、リストに格納する"
   ]
  },
  {
   "cell_type": "code",
   "execution_count": 29,
   "metadata": {},
   "outputs": [],
   "source": [
    "acc_lst = []\n",
    "for train_idx, valid_idx in cv.split(x_train, y_train):\n",
    "    trn_x = x_train[train_idx]\n",
    "    val_x = x_train[valid_idx]\n",
    "\n",
    "    trn_y = y_train[train_idx.tolist()]\n",
    "    val_y = y_train[valid_idx.tolist()]\n",
    "    \n",
    "    clf = LogisticRegression()\n",
    "    clf.fit(trn_x, trn_y)\n",
    "    \n",
    "    pred = clf.predict(val_x)\n",
    "    acc = accuracy_score(pred, val_y)\n",
    "    acc_lst.append(acc)"
   ]
  },
  {
   "cell_type": "markdown",
   "metadata": {},
   "source": [
    "格納したスコアリストから平均スコアを導出する"
   ]
  },
  {
   "cell_type": "code",
   "execution_count": 30,
   "metadata": {},
   "outputs": [
    {
     "data": {
      "text/plain": [
       "0.8631292360843371"
      ]
     },
     "execution_count": 30,
     "metadata": {},
     "output_type": "execute_result"
    }
   ],
   "source": [
    "sum(acc_lst)/len(acc_lst)"
   ]
  },
  {
   "cell_type": "code",
   "execution_count": null,
   "metadata": {},
   "outputs": [],
   "source": []
  }
 ],
 "metadata": {
  "kernelspec": {
   "display_name": "Python 3",
   "language": "python",
   "name": "python3"
  },
  "language_info": {
   "codemirror_mode": {
    "name": "ipython",
    "version": 3
   },
   "file_extension": ".py",
   "mimetype": "text/x-python",
   "name": "python",
   "nbconvert_exporter": "python",
   "pygments_lexer": "ipython3",
   "version": "3.6.6"
  }
 },
 "nbformat": 4,
 "nbformat_minor": 2
}
